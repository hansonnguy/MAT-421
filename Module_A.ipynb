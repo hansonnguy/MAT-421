{
  "nbformat": 4,
  "nbformat_minor": 0,
  "metadata": {
    "colab": {
      "provenance": [],
      "authorship_tag": "ABX9TyOAXmVnNTrpbFGW7j2AHx4k",
      "include_colab_link": true
    },
    "kernelspec": {
      "name": "python3",
      "display_name": "Python 3"
    },
    "language_info": {
      "name": "python"
    }
  },
  "cells": [
    {
      "cell_type": "markdown",
      "metadata": {
        "id": "view-in-github",
        "colab_type": "text"
      },
      "source": [
        "<a href=\"https://colab.research.google.com/github/hansonnguy/MAT-421/blob/main/Module_A.ipynb\" target=\"_parent\"><img src=\"https://colab.research.google.com/assets/colab-badge.svg\" alt=\"Open In Colab\"/></a>"
      ]
    },
    {
      "cell_type": "markdown",
      "source": [
        "HW 1 - Hanson Nguyen\n",
        "\n",
        "**9.1 Base-N and Binary**\n",
        "\n",
        "\n",
        "---\n",
        "\n",
        "\n",
        "Various number systems represent numbers in ways that might be more useful for a particular application. The decimal, or base-10 number system, is used in standard counting. To represent digital values in transistors, the binary, or base-2, number system, which contain only 0's and 1's, is used as the number system in computers. This module demonstrates how to convert from decimal to binary."
      ],
      "metadata": {
        "id": "f7-COhsyFbU7"
      }
    },
    {
      "cell_type": "code",
      "source": [
        "# Base-10 decomposition into base-2\n",
        "# ex. 134 (base-10)\n",
        "134 == 1*(2**7) + 0*(2**6) + 0*(2**5) + 0*(2**4) + 0*(2**3) + 1*(2**2) + 1*(2**1) + 0*(2**0)"
      ],
      "metadata": {
        "colab": {
          "base_uri": "https://localhost:8080/"
        },
        "id": "d7fd7dZdHSK1",
        "outputId": "866d48dd-9c78-4c2d-e703-dbe283e30364"
      },
      "execution_count": 4,
      "outputs": [
        {
          "output_type": "execute_result",
          "data": {
            "text/plain": [
              "True"
            ]
          },
          "metadata": {},
          "execution_count": 4
        }
      ]
    },
    {
      "cell_type": "code",
      "source": [
        "# function that converts decimal to binary\n",
        "def base10tobase2(num):\n",
        "  if(num>1):\n",
        "    base10tobase2(num//2)\n",
        "  print(num%2, end='')\n",
        "\n",
        "# function that convers binary to decimal\n",
        "def base2tobase10(num):\n",
        "  digits = list(str(num))\n",
        "  digits.reverse()\n",
        "  value = 0\n",
        "  for i in range(len(digits)):\n",
        "    value = value + int(digits[i])*(2**i)\n",
        "  return int(value)"
      ],
      "metadata": {
        "colab": {
          "base_uri": "https://localhost:8080/"
        },
        "id": "uXVvaJi-HhlZ",
        "outputId": "c513bc21-8aa6-4950-89c3-cbd5b362b48b"
      },
      "execution_count": 5,
      "outputs": [
        {
          "output_type": "execute_result",
          "data": {
            "text/plain": [
              "138"
            ]
          },
          "metadata": {},
          "execution_count": 5
        }
      ]
    },
    {
      "cell_type": "code",
      "source": [
        "# confirm function works properly, using example above\n",
        "base2tobase10('10000110')"
      ],
      "metadata": {
        "colab": {
          "base_uri": "https://localhost:8080/"
        },
        "id": "_o42rjeTJmLm",
        "outputId": "ef8a5f39-8842-4e4b-a9c2-4991def0f481"
      },
      "execution_count": 18,
      "outputs": [
        {
          "output_type": "execute_result",
          "data": {
            "text/plain": [
              "134"
            ]
          },
          "metadata": {},
          "execution_count": 18
        }
      ]
    },
    {
      "cell_type": "code",
      "source": [
        "base10tobase2(134)"
      ],
      "metadata": {
        "colab": {
          "base_uri": "https://localhost:8080/"
        },
        "id": "l6amPyD5LL0S",
        "outputId": "97f401a7-e04a-4898-fce3-7b8c3f631a62"
      },
      "execution_count": 17,
      "outputs": [
        {
          "output_type": "stream",
          "name": "stdout",
          "text": [
            "10000110"
          ]
        }
      ]
    },
    {
      "cell_type": "code",
      "source": [
        "# Adding in binary:\n",
        "# ex. 010101 + 011001 = 101110\n",
        "#     21 + 25 = 46\n",
        "base2tobase10('010101') + base2tobase10('011001') == base2tobase10('101110')"
      ],
      "metadata": {
        "colab": {
          "base_uri": "https://localhost:8080/"
        },
        "id": "9WLqlVvYLRTs",
        "outputId": "ac7f5a31-b77a-45a7-dded-f15ef3812464"
      },
      "execution_count": 20,
      "outputs": [
        {
          "output_type": "execute_result",
          "data": {
            "text/plain": [
              "True"
            ]
          },
          "metadata": {},
          "execution_count": 20
        }
      ]
    },
    {
      "cell_type": "code",
      "source": [
        "# Multiplying in binary:\n",
        "# ex. 0101 * 0011 = 1111\n",
        "#     5 * 3 = 15\n",
        "base2tobase10('0101') * base2tobase10('0011') == base2tobase10('1111')"
      ],
      "metadata": {
        "colab": {
          "base_uri": "https://localhost:8080/"
        },
        "id": "3b_GmBxcLxQI",
        "outputId": "b731b677-51e0-4c6b-ea3f-bf9c01ac740c"
      },
      "execution_count": 22,
      "outputs": [
        {
          "output_type": "execute_result",
          "data": {
            "text/plain": [
              "True"
            ]
          },
          "metadata": {},
          "execution_count": 22
        }
      ]
    },
    {
      "cell_type": "markdown",
      "source": [
        "**9.2 Floating Point Numbers**\n",
        "\n",
        "---\n",
        "\n",
        "\n",
        "In the IEEE754 standard, 64 bits are allocated to represent floating point numbers. The allocation of these bits are:\n",
        "\n",
        "\n",
        "*   1 bit $(s)$ for the sign of the number (positive or negative)\n",
        "*   11 bits $(e)$ for the exponent as a power of 2 (normalized by subtracting 1023)\n",
        "*   52 bits $(f)$ for the fraction/mantissa\n",
        "\n",
        "The following equation is used to obtain the full number, $n$:\n",
        "\n",
        "$n = (-1)^s(2^{(e-1023)})(1+f)$\n",
        "\n"
      ],
      "metadata": {
        "id": "zonm0H1IMaeG"
      }
    },
    {
      "cell_type": "code",
      "source": [
        "# IEEE754 example\n",
        "# 1 10000000101 1100000100000000000000000000000000000000000000000000 = -112.25\n",
        "-112.25 == (-1)**1 * (2**((1*2**10 + 1*2**2 + 1*2**0) - 1023)) * (1 + 1*2**-1 + 1*2**-2 + 1*2**-8)"
      ],
      "metadata": {
        "colab": {
          "base_uri": "https://localhost:8080/"
        },
        "id": "M2uq3qbfOE-l",
        "outputId": "e7a44cf5-1e0c-4f29-90a9-035d994b25e8"
      },
      "execution_count": 23,
      "outputs": [
        {
          "output_type": "execute_result",
          "data": {
            "text/plain": [
              "True"
            ]
          },
          "metadata": {},
          "execution_count": 23
        }
      ]
    },
    {
      "cell_type": "code",
      "source": [
        "# function that converts IEEE754 to decimal\n",
        "def IEEE754tobase10(num):\n",
        "  digits = str(num)\n",
        "  s = base2tobase10(digits[0])\n",
        "  e = base2tobase10(digits[1:12])\n",
        "  m = base2tobase10mantissa(digits[12:])\n",
        "  return (-1**s)*2**(e-1023)*(1+m)\n",
        "\n",
        "# function that converts mantissa to decimal\n",
        "def base2tobase10mantissa(num):\n",
        "  digits = list(str(num))\n",
        "  value = 0\n",
        "  for i in range(len(digits)):\n",
        "    value = value + int(digits[i])*(2**-(i+1))\n",
        "  return value"
      ],
      "metadata": {
        "id": "ph7e6z2UPXgQ"
      },
      "execution_count": 71,
      "outputs": []
    },
    {
      "cell_type": "code",
      "source": [
        "# confirm function works properly, using example above\n",
        "IEEE754tobase10('1100000001011100000100000000000000000000000000000000000000000000') == -112.25"
      ],
      "metadata": {
        "colab": {
          "base_uri": "https://localhost:8080/"
        },
        "id": "p-ZR-LBXP6IZ",
        "outputId": "17c4a78b-cad2-4e9f-b0b5-404d5cf9e4b0"
      },
      "execution_count": 72,
      "outputs": [
        {
          "output_type": "execute_result",
          "data": {
            "text/plain": [
              "True"
            ]
          },
          "metadata": {},
          "execution_count": 72
        }
      ]
    },
    {
      "cell_type": "code",
      "execution_count": 2,
      "metadata": {
        "colab": {
          "base_uri": "https://localhost:8080/"
        },
        "id": "s63Ywia3_Hz2",
        "outputId": "37f0c6d8-7cf3-4bb2-e19f-668ed1ab0f9b"
      },
      "outputs": [
        {
          "output_type": "execute_result",
          "data": {
            "text/plain": [
              "True"
            ]
          },
          "metadata": {},
          "execution_count": 2
        }
      ],
      "source": [
        "# we can find the max value that can be interpretted with IEEE754\n",
        "import sys\n",
        "import numpy as np\n",
        "largest = (2**(2046-1023))*((1 + sum(0.5**np.arange(1, 53))))\n",
        "sys.float_info.max == largest"
      ]
    },
    {
      "cell_type": "code",
      "source": [
        "# we can find the min value that can be interpretted with IEEE754\n",
        "smallest = (2**(1-1023))*(1+0)\n",
        "sys.float_info.min == smallest"
      ],
      "metadata": {
        "colab": {
          "base_uri": "https://localhost:8080/"
        },
        "id": "T_HiKq2HIbMv",
        "outputId": "20523594-91e0-43c0-8a7a-80f54a31b815"
      },
      "execution_count": 3,
      "outputs": [
        {
          "output_type": "execute_result",
          "data": {
            "text/plain": [
              "True"
            ]
          },
          "metadata": {},
          "execution_count": 3
        }
      ]
    },
    {
      "cell_type": "markdown",
      "source": [
        "Since the mantissa is limited in the number of bits, there is a finite distance, or a **gap**, between sequential numbers. Values that are less than this gap will have no impact on the final result"
      ],
      "metadata": {
        "id": "t2hthKWPWtY-"
      }
    },
    {
      "cell_type": "code",
      "source": [
        "import numpy as np\n",
        "np.spacing(1e9)\n",
        "1e9 == (1e9 + np.spacing(1e9)/3)"
      ],
      "metadata": {
        "colab": {
          "base_uri": "https://localhost:8080/"
        },
        "id": "pBG2fCING_Zj",
        "outputId": "46a36c24-0c01-40cf-99af-119eca41978d"
      },
      "execution_count": 3,
      "outputs": [
        {
          "output_type": "execute_result",
          "data": {
            "text/plain": [
              "True"
            ]
          },
          "metadata": {},
          "execution_count": 3
        }
      ]
    },
    {
      "cell_type": "code",
      "source": [
        "# this gap increases with the number being represented. For instance, 2 is several orders of magnitude less than the maximum IEEE754 number, and is thus less than the gap at this value\n",
        "sys.float_info.max + 2 == sys.float_info.max"
      ],
      "metadata": {
        "colab": {
          "base_uri": "https://localhost:8080/"
        },
        "id": "9I58BopgJoNc",
        "outputId": "2c641c55-bd6a-4fc8-aa4c-4b2916095948"
      },
      "execution_count": 10,
      "outputs": [
        {
          "output_type": "execute_result",
          "data": {
            "text/plain": [
              "True"
            ]
          },
          "metadata": {},
          "execution_count": 10
        }
      ]
    },
    {
      "cell_type": "code",
      "source": [
        "# numbers larger than the max are interpretted as positive infinity\n",
        "sys.float_info.max + sys.float_info.max"
      ],
      "metadata": {
        "colab": {
          "base_uri": "https://localhost:8080/"
        },
        "id": "ugbjwB9CJon2",
        "outputId": "e9375076-9683-44ce-a8b0-d78d443223b2"
      },
      "execution_count": 11,
      "outputs": [
        {
          "output_type": "execute_result",
          "data": {
            "text/plain": [
              "inf"
            ]
          },
          "metadata": {},
          "execution_count": 11
        }
      ]
    },
    {
      "cell_type": "code",
      "source": [
        "# numbers that are smaller than the smallest subnormal number (2^{1-1023}*2^{-52} = 2^-1074) are interpretted as 0, as shown in the next two cells\n",
        "2**(-1075) == 0.0"
      ],
      "metadata": {
        "colab": {
          "base_uri": "https://localhost:8080/"
        },
        "id": "m_cMBgq0JzCK",
        "outputId": "b32456ab-a157-47a6-963f-8510c3f35a67"
      },
      "execution_count": 12,
      "outputs": [
        {
          "output_type": "execute_result",
          "data": {
            "text/plain": [
              "True"
            ]
          },
          "metadata": {},
          "execution_count": 12
        }
      ]
    },
    {
      "cell_type": "code",
      "source": [
        "2**(-1074) == 0.0"
      ],
      "metadata": {
        "colab": {
          "base_uri": "https://localhost:8080/"
        },
        "id": "RDtWeD_EJ0Nj",
        "outputId": "95d76665-5d41-4c44-96b6-778eb4ef7077"
      },
      "execution_count": 13,
      "outputs": [
        {
          "output_type": "execute_result",
          "data": {
            "text/plain": [
              "False"
            ]
          },
          "metadata": {},
          "execution_count": 13
        }
      ]
    },
    {
      "cell_type": "markdown",
      "source": [
        "**9.3 Round-off Errors**\n",
        "\n",
        "---\n",
        "\n",
        "A round off number is the difference between the finite number computed in the IEEE754 numbering scheme and the actual solution of an arithmetic. Round off errors appear in a few different forms:\n",
        "\n",
        "\n",
        "*   Representation errors occur when a value in IEEE754 is different than an actual intended value. For instance, $\\pi$ will have a round off error as it is is in irrational number that will have an infinite number of decimal points. We are limited to the 52 mantissa bits in IEEE754, and thus there will be a representation error\n",
        "*   Arithmetic errors occur when a floating point solution cannot be fully represented in IEEE754.\n",
        "*   Accumulation errors arise from repreated calculations of numbers that form an error due to a representation or arithmetic error. These errors \"accumulate\" over time and become more significant over a large series of operations\n",
        "\n"
      ],
      "metadata": {
        "id": "-4aiY6rwYzkn"
      }
    },
    {
      "cell_type": "code",
      "source": [
        "# Representation error: the sqrt of 2 has a representation error, which we can see as the sqrt of 2 squared is expected to equal 2\n",
        "(np.sqrt(2))**2 == 2"
      ],
      "metadata": {
        "colab": {
          "base_uri": "https://localhost:8080/"
        },
        "id": "vY1JKhn6a-o8",
        "outputId": "3f9e96e2-cdbf-40eb-a29a-2019a83c329f"
      },
      "execution_count": 7,
      "outputs": [
        {
          "output_type": "execute_result",
          "data": {
            "text/plain": [
              "False"
            ]
          },
          "metadata": {},
          "execution_count": 7
        }
      ]
    },
    {
      "cell_type": "code",
      "source": [
        "# Arithmetic Error: we see that a solution we expected to be true to turn out false. This is due to the limitation of a finite floating-point representation in IEEE754\n",
        "8.9 - 8.845 == 0.055"
      ],
      "metadata": {
        "colab": {
          "base_uri": "https://localhost:8080/"
        },
        "id": "bbS6VUEWLebZ",
        "outputId": "0c0c0969-361f-45a4-bcba-018929ef45ff"
      },
      "execution_count": 4,
      "outputs": [
        {
          "output_type": "execute_result",
          "data": {
            "text/plain": [
              "False"
            ]
          },
          "metadata": {},
          "execution_count": 4
        }
      ]
    },
    {
      "cell_type": "code",
      "source": [
        "# here is the value that is computed for, which is very close to our expected value\n",
        "8.9 - 8.845"
      ],
      "metadata": {
        "colab": {
          "base_uri": "https://localhost:8080/"
        },
        "id": "dOu-GfCRLfvR",
        "outputId": "727f2543-5e7b-451f-917e-e0834869c8c5"
      },
      "execution_count": 5,
      "outputs": [
        {
          "output_type": "execute_result",
          "data": {
            "text/plain": [
              "0.054999999999999716"
            ]
          },
          "metadata": {},
          "execution_count": 5
        }
      ]
    },
    {
      "cell_type": "code",
      "source": [
        "# we can solve this issue by rounding to a desired decimal place. In this case, we could round up to the to 10^-15 place value\n",
        "round(8.9 - 8.845, 15)  == 0.055"
      ],
      "metadata": {
        "colab": {
          "base_uri": "https://localhost:8080/"
        },
        "id": "MlTjUnGpLr8j",
        "outputId": "2559fabe-b361-48a9-f38a-449268530fe4"
      },
      "execution_count": 16,
      "outputs": [
        {
          "output_type": "execute_result",
          "data": {
            "text/plain": [
              "True"
            ]
          },
          "metadata": {},
          "execution_count": 16
        }
      ]
    },
    {
      "cell_type": "code",
      "source": [
        "# Accumulation error: repeated caluculations using numbers that have a representation error can result in accumulated error.\n",
        "# Here, when we run one iteration with pi, the representation error cancels with itself\n",
        "1 + np.pi - np.pi"
      ],
      "metadata": {
        "colab": {
          "base_uri": "https://localhost:8080/"
        },
        "id": "5ywcRAbcMxKG",
        "outputId": "45bece5d-3844-45d7-ccfd-3f2dfd8a5c7a"
      },
      "execution_count": 22,
      "outputs": [
        {
          "output_type": "execute_result",
          "data": {
            "text/plain": [
              "1.0"
            ]
          },
          "metadata": {},
          "execution_count": 22
        }
      ]
    },
    {
      "cell_type": "code",
      "source": [
        "# define a function to run many additions and then many subtractions\n",
        "def add_then_subtract(iterations, num):\n",
        "    result = 1\n",
        "\n",
        "    for i in range(iterations):\n",
        "        result += num\n",
        "\n",
        "    for i in range(iterations):\n",
        "        result -= num\n",
        "    return result\n",
        "\n",
        "# define a function to run many additions and subtractions together\n",
        "def add_and_subtract(iterations, num):\n",
        "    result = 1\n",
        "\n",
        "    for i in range(iterations):\n",
        "        result += num\n",
        "        result -= num\n",
        "    return result"
      ],
      "metadata": {
        "id": "U8-fuf1AMxvG"
      },
      "execution_count": 30,
      "outputs": []
    },
    {
      "cell_type": "code",
      "source": [
        "# If we accumulate the error first, we will see that there was some accumulated error\n",
        "add_then_subtract(100, np.pi)"
      ],
      "metadata": {
        "colab": {
          "base_uri": "https://localhost:8080/"
        },
        "id": "5RwSPw2aMzNM",
        "outputId": "43dc2827-ecb8-43cc-9385-9d6b9e805d2d"
      },
      "execution_count": 33,
      "outputs": [
        {
          "output_type": "execute_result",
          "data": {
            "text/plain": [
              "1.0000000000000213"
            ]
          },
          "metadata": {},
          "execution_count": 33
        }
      ]
    },
    {
      "cell_type": "code",
      "source": [
        "# Running this more times, we see that the error accumalates more\n",
        "add_then_subtract(1000, np.pi) - add_then_subtract(100, np.pi) > 0"
      ],
      "metadata": {
        "colab": {
          "base_uri": "https://localhost:8080/"
        },
        "id": "QXaC1j3gdfjX",
        "outputId": "3ae3f10d-7e4d-4f7e-bed8-935f32b3e379"
      },
      "execution_count": 38,
      "outputs": [
        {
          "output_type": "execute_result",
          "data": {
            "text/plain": [
              "True"
            ]
          },
          "metadata": {},
          "execution_count": 38
        }
      ]
    },
    {
      "cell_type": "code",
      "source": [
        "# Althernatively, we can cancel out this error by adding and subtracted and repeating this many times\n",
        "add_and_subtract(10000, np.pi)"
      ],
      "metadata": {
        "colab": {
          "base_uri": "https://localhost:8080/"
        },
        "id": "Yc03lnAkdC8h",
        "outputId": "fb079a25-bc9a-4d03-e5ad-86086c90b5cb"
      },
      "execution_count": 32,
      "outputs": [
        {
          "output_type": "execute_result",
          "data": {
            "text/plain": [
              "1.0"
            ]
          },
          "metadata": {},
          "execution_count": 32
        }
      ]
    }
  ]
}